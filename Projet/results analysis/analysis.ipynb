{
 "cells": [
  {
   "cell_type": "markdown",
   "metadata": {},
   "source": [
    "# Analysis"
   ]
  },
  {
   "cell_type": "markdown",
   "metadata": {},
   "source": [
    "## Modules"
   ]
  },
  {
   "cell_type": "markdown",
   "metadata": {},
   "source": [
    "### Imports"
   ]
  },
  {
   "cell_type": "code",
   "execution_count": 2,
   "metadata": {},
   "outputs": [],
   "source": [
    "import importlib.metadata\n",
    "import itertools\n",
    "import os\n",
    "import types\n",
    "\n",
    "import matplotlib.pyplot as plt\n",
    "import numpy as np\n",
    "import pandas as pd\n",
    "from sklearn import metrics"
   ]
  },
  {
   "cell_type": "markdown",
   "metadata": {},
   "source": [
    "### Versions"
   ]
  },
  {
   "cell_type": "markdown",
   "metadata": {},
   "source": [
    "The current module versions in use are as follows:"
   ]
  },
  {
   "cell_type": "code",
   "execution_count": 3,
   "metadata": {},
   "outputs": [
    {
     "data": {
      "text/html": [
       "<div>\n",
       "<style scoped>\n",
       "    .dataframe tbody tr th:only-of-type {\n",
       "        vertical-align: middle;\n",
       "    }\n",
       "\n",
       "    .dataframe tbody tr th {\n",
       "        vertical-align: top;\n",
       "    }\n",
       "\n",
       "    .dataframe thead th {\n",
       "        text-align: right;\n",
       "    }\n",
       "</style>\n",
       "<table border=\"1\" class=\"dataframe\">\n",
       "  <thead>\n",
       "    <tr style=\"text-align: right;\">\n",
       "      <th></th>\n",
       "      <th>Module</th>\n",
       "      <th>Version</th>\n",
       "    </tr>\n",
       "  </thead>\n",
       "  <tbody>\n",
       "    <tr>\n",
       "      <th>0</th>\n",
       "      <td>matplotlib</td>\n",
       "      <td>3.9.2</td>\n",
       "    </tr>\n",
       "    <tr>\n",
       "      <th>1</th>\n",
       "      <td>numpy</td>\n",
       "      <td>1.26.4</td>\n",
       "    </tr>\n",
       "    <tr>\n",
       "      <th>2</th>\n",
       "      <td>pandas</td>\n",
       "      <td>2.2.3</td>\n",
       "    </tr>\n",
       "    <tr>\n",
       "      <th>3</th>\n",
       "      <td>scikit-learn</td>\n",
       "      <td>1.5.2</td>\n",
       "    </tr>\n",
       "  </tbody>\n",
       "</table>\n",
       "</div>"
      ],
      "text/plain": [
       "         Module Version\n",
       "0    matplotlib   3.9.2\n",
       "1         numpy  1.26.4\n",
       "2        pandas   2.2.3\n",
       "3  scikit-learn   1.5.2"
      ]
     },
     "execution_count": 3,
     "metadata": {},
     "output_type": "execute_result"
    }
   ],
   "source": [
    "def get_imports():\n",
    "    for name, val in globals().items():\n",
    "        if isinstance(val, types.ModuleType):\n",
    "            name = val.__name__.split(\".\")[0]\n",
    "\n",
    "        elif isinstance(val, type):\n",
    "            name = val.__module__.split(\".\")[0]\n",
    "\n",
    "        poorly_named_packages = {\"PIL\": \"pillow\", \"sklearn\": \"scikit-learn\"}\n",
    "        if name in poorly_named_packages.keys():\n",
    "            name = poorly_named_packages[name]\n",
    "\n",
    "        yield name\n",
    "\n",
    "\n",
    "imports = list(set(get_imports()))\n",
    "\n",
    "requirements = []\n",
    "for dist in importlib.metadata.distributions():\n",
    "    if (\n",
    "        dist.metadata[\"Name\"].lower() in imports\n",
    "        and dist.metadata[\"Name\"].lower() != \"pip\"\n",
    "    ):\n",
    "        requirements.append((dist.metadata[\"Name\"], dist.version))\n",
    "\n",
    "pd.DataFrame(requirements, columns=[\"Module\", \"Version\"])"
   ]
  },
  {
   "cell_type": "markdown",
   "metadata": {},
   "source": [
    "## Global variables"
   ]
  },
  {
   "cell_type": "code",
   "execution_count": 4,
   "metadata": {},
   "outputs": [],
   "source": [
    "RESULTS_PATH = \"./results\"\n",
    "RAVDESS_TEST_LABELS_PATH = \"../nvark-kernel/datasets/KM/RAVDESS/RAVDESS_TEST.tsv\"\n",
    "RAVDESS_EMOTIONS = [\n",
    "    \"neutral\",\n",
    "    \"calm\",\n",
    "    \"happy\",\n",
    "    \"sad\",\n",
    "    \"angry\",\n",
    "    \"fearful\",\n",
    "    \"disgust\",\n",
    "    \"surprised\",\n",
    "]\n",
    "EMODB_TEST_LABELS_PATH = \"../nvark-kernel/datasets/KM/EmoDB/EmoDB_TEST.tsv\"\n",
    "EMODB_EMOTIONS = [\n",
    "    \"Anger\",\n",
    "    \"Boredom\",\n",
    "    \"Disgust\",\n",
    "    \"Anxiety/Fear\",\n",
    "    \"Happiness\",\n",
    "    \"Sadness\",\n",
    "    \"Neutral\",\n",
    "]"
   ]
  },
  {
   "cell_type": "markdown",
   "metadata": {},
   "source": [
    "## Analysis functions"
   ]
  },
  {
   "cell_type": "code",
   "execution_count": 5,
   "metadata": {},
   "outputs": [],
   "source": [
    "def plot_confusion_matrix(labels, predictions, class_names):\n",
    "    print(f\"Accuracy: {metrics.accuracy_score(labels, predictions) * 100:.3f}%\")\n",
    "    print(\n",
    "        f\"Precision: {metrics.precision_score(labels, predictions, average=\"macro\") * 100:.3f}%\"\n",
    "    )\n",
    "    print(\n",
    "        f\"Recall: {metrics.recall_score(labels, predictions, average=\"macro\") * 100:.3f}%\"\n",
    "    )\n",
    "\n",
    "    # cm = tf.math.confusion_matrix(labels=labels, predictions=predictions)\n",
    "    cm = metrics.confusion_matrix(y_true=labels, y_pred=predictions)\n",
    "\n",
    "    fig, ax = plt.subplots(figsize=(6, 6))\n",
    "    plt.imshow(cm, interpolation=\"nearest\", cmap=plt.cm.Blues)\n",
    "    plt.title(\"Confusion Matrix\")\n",
    "    plt.colorbar()\n",
    "    tick_marks = np.arange(len(class_names))\n",
    "    plt.xticks(tick_marks, class_names, rotation=30, ha=\"right\")\n",
    "    plt.yticks(tick_marks, class_names)\n",
    "\n",
    "    labels = np.around(\n",
    "        cm.astype(\"float\") * 100 / cm.sum(axis=1)[:, np.newaxis],\n",
    "        decimals=2,\n",
    "    )\n",
    "\n",
    "    threshold = cm.max() / 2.0\n",
    "    for i, j in itertools.product(range(cm.shape[0]), range(cm.shape[1])):\n",
    "        color = \"white\" if cm[i, j] > threshold else \"black\"\n",
    "        plt.text(\n",
    "            j,\n",
    "            i,\n",
    "            \"\\n\" + str(int(cm[i, j])) + \"\\n\" + str(labels[i, j]) + \"%\",\n",
    "            horizontalalignment=\"center\",\n",
    "            color=color,\n",
    "        )\n",
    "\n",
    "    plt.tight_layout()\n",
    "    plt.ylabel(\"True class\")\n",
    "    plt.xlabel(\"Predicted class\")\n",
    "\n",
    "    plt.show()"
   ]
  },
  {
   "cell_type": "markdown",
   "metadata": {},
   "source": [
    "## Main"
   ]
  },
  {
   "cell_type": "markdown",
   "metadata": {},
   "source": [
    "### RAVDESS"
   ]
  },
  {
   "cell_type": "markdown",
   "metadata": {},
   "source": [
    "#### Train"
   ]
  },
  {
   "cell_type": "code",
   "execution_count": null,
   "metadata": {},
   "outputs": [],
   "source": [
    "train_results = pd.DataFrame(\n",
    "    np.load(os.path.join(RESULTS_PATH, \"RAVDESS_trainmetrics.npy\")),\n",
    "    columns=[\"Accuracy\", \"Precision\", \"Recall\", \"F1\"],\n",
    ")"
   ]
  },
  {
   "cell_type": "code",
   "execution_count": null,
   "metadata": {},
   "outputs": [],
   "source": [
    "train_results.describe()"
   ]
  },
  {
   "cell_type": "markdown",
   "metadata": {},
   "source": [
    "#### Test"
   ]
  },
  {
   "cell_type": "code",
   "execution_count": null,
   "metadata": {},
   "outputs": [],
   "source": [
    "labels = (\n",
    "    pd.read_csv(\n",
    "        RAVDESS_TEST_LABELS_PATH,\n",
    "        header=None,\n",
    "        sep=\"\\t\",\n",
    "        usecols=[0],\n",
    "    )\n",
    "    .squeeze()\n",
    "    .to_numpy()\n",
    ")\n",
    "\n",
    "predictions = np.load(os.path.join(RESULTS_PATH, \"RAVDESS_testlabels.npy\"))"
   ]
  },
  {
   "cell_type": "code",
   "execution_count": null,
   "metadata": {},
   "outputs": [],
   "source": [
    "plot_confusion_matrix(labels, predictions, RAVDESS_EMOTIONS)"
   ]
  },
  {
   "cell_type": "markdown",
   "metadata": {},
   "source": [
    "### EmoDB"
   ]
  },
  {
   "cell_type": "markdown",
   "metadata": {},
   "source": [
    "#### Train"
   ]
  },
  {
   "cell_type": "code",
   "execution_count": null,
   "metadata": {},
   "outputs": [],
   "source": [
    "train_results = pd.DataFrame(\n",
    "    np.load(os.path.join(RESULTS_PATH, \"EmoDB_trainmetrics.npy\")),\n",
    "    columns=[\"Accuracy\", \"Precision\", \"Recall\", \"F1\"],\n",
    ")"
   ]
  },
  {
   "cell_type": "code",
   "execution_count": null,
   "metadata": {},
   "outputs": [],
   "source": [
    "train_results.describe()"
   ]
  },
  {
   "cell_type": "markdown",
   "metadata": {},
   "source": [
    "#### Test"
   ]
  },
  {
   "cell_type": "code",
   "execution_count": null,
   "metadata": {},
   "outputs": [],
   "source": [
    "labels = (\n",
    "    pd.read_csv(\n",
    "        EMODB_TEST_LABELS_PATH,\n",
    "        header=None,\n",
    "        sep=\"\\t\",\n",
    "        usecols=[0],\n",
    "    )\n",
    "    .squeeze()\n",
    "    .to_numpy()\n",
    ")\n",
    "\n",
    "predictions = np.load(os.path.join(RESULTS_PATH, \"EmoDB_testlabels.npy\"))"
   ]
  },
  {
   "cell_type": "code",
   "execution_count": null,
   "metadata": {},
   "outputs": [],
   "source": [
    "plot_confusion_matrix(labels, predictions, EMODB_EMOTIONS)"
   ]
  }
 ],
 "metadata": {
  "kernelspec": {
   "display_name": "nvark",
   "language": "python",
   "name": "python3"
  },
  "language_info": {
   "codemirror_mode": {
    "name": "ipython",
    "version": 3
   },
   "file_extension": ".py",
   "mimetype": "text/x-python",
   "name": "python",
   "nbconvert_exporter": "python",
   "pygments_lexer": "ipython3",
   "version": "3.12.7"
  }
 },
 "nbformat": 4,
 "nbformat_minor": 2
}
