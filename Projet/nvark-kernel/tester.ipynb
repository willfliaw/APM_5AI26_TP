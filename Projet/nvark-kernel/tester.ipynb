{
 "cells": [
  {
   "cell_type": "code",
   "execution_count": 71,
   "metadata": {},
   "outputs": [],
   "source": [
    "import numpy as np\n",
    "import time\n",
    "\n",
    "from load_dataset import load_dataset, print_info, preprocessing\n",
    "# NVARk\n",
    "from model.NVARk import NVARk\n",
    "from model.emb_pars import SSR_parameters\n",
    "\n",
    "# # different tasks\n",
    "# from sklearn.svm import SVC\n",
    "\n",
    "# internal imports\n",
    "import utils\n",
    "import tasks\n",
    "\n",
    "import warnings\n",
    "\n",
    "warnings.filterwarnings(\"ignore\")\n",
    "\n",
    "\n",
    "datasets_list = [\n",
    "       'CinCECGTorso',\n",
    "    #'EmoDB',\n",
    "    # 'RAVDESS'\n",
    "]\n",
    "\n",
    "\"\"\"global variables\"\"\"\n",
    "# set to 'zero_padding' for matching the longest series in the dataset\n",
    "# set to 'interpolate'\n",
    "prepr_option = \"zero_padding\"  # 'none' / 'zero_padding' / 'interpolate'\n",
    "experiment = \"SVM_NVARk\"  # SVM_NVARk, SVM_NVARk* , time_NVARk\n",
    "random_iterations = 10\n",
    "svm_C_list = np.logspace(-3, 3, 7)\n",
    "# 'svd' or 'cholesky'  ('cholesky' is used in the paper, is faster but can be unstable for matrices with high collinearity)\n",
    "solver = \"svd\"\n",
    "\n"
   ]
  },
  {
   "cell_type": "code",
   "execution_count": 72,
   "metadata": {},
   "outputs": [],
   "source": [
    "for dataset_name in datasets_list:\n",
    "    TRAIN_x_raw, TRAIN_y_raw, TEST_x_raw, TEST_y_raw = load_dataset(dataset_name)"
   ]
  },
  {
   "cell_type": "code",
   "execution_count": 73,
   "metadata": {},
   "outputs": [],
   "source": [
    "import pandas as pd\n",
    "\n",
    "def check_df_for_weird_values(df):\n",
    "    print(f\"Checking DataFrame for weird values...\")\n",
    "    \n",
    "    def print_weird_values(series, row_index):\n",
    "        \"\"\"\n",
    "        Check if the given pd.Series contains non-numeric values, NaNs, empty strings, infinities,\n",
    "        or values outside a specified range, and print those specific weird values.\n",
    "        \"\"\"\n",
    "        # Convert series to numeric, coercing errors to NaN\n",
    "        numeric_series = pd.to_numeric(series, errors='coerce')\n",
    "        \n",
    "        # Check for NaN, non-numeric values, empty strings, and infinities\n",
    "        is_nan_or_non_numeric = numeric_series.isna() | series.isna()\n",
    "        is_empty_string = series == \"\"\n",
    "        is_infinity = series.apply(lambda x: x in [np.inf, -np.inf])\n",
    "        \n",
    "        # Combine all conditions\n",
    "        weird_values = series[is_nan_or_non_numeric | is_empty_string | is_infinity]\n",
    "        \n",
    "        # Print if there are any weird values\n",
    "        if not weird_values.empty:\n",
    "            print(f\"Row {row_index} contains weird values: {weird_values.tolist()}\")\n",
    "\n",
    "    # Apply this check for each row in the DataFrame\n",
    "    for row_index, row in df.iterrows():\n",
    "        series = row[0]  # Assuming the pd.Series is in the first column of each row\n",
    "        print_weird_values(series, row_index)\n",
    "\n",
    "# Example usage for checking the datasets\n",
    "#check_df_for_weird_values(TEST_x_raw)\n",
    "#check_df_for_weird_values(TRAIN_x_raw)"
   ]
  },
  {
   "cell_type": "code",
   "execution_count": 74,
   "metadata": {},
   "outputs": [],
   "source": [
    "def clean_and_crop(_dataset, max_len=2000):\n",
    "    # Apply conversion to float and crop each pd.Series in place\n",
    "    dataset = _dataset.copy()\n",
    "    dataset = dataset.applymap(lambda x: x.iloc[:max_len])\n",
    "    \n",
    "    # Apply numeric conversion after the cropping\n",
    "    dataset = dataset.applymap(pd.to_numeric, errors='coerce')\n",
    "    \n",
    "    return dataset\n",
    "\n",
    "# Convert the datasets to float time series\n",
    "TRAIN_clean = clean_and_crop(TRAIN_x_raw)\n",
    "TEST_clean = clean_and_crop(TEST_x_raw)"
   ]
  },
  {
   "cell_type": "code",
   "execution_count": 75,
   "metadata": {},
   "outputs": [
    {
     "name": "stdout",
     "output_type": "stream",
     "text": [
      "Checking DataFrame for weird values...\n",
      "Checking DataFrame for weird values...\n"
     ]
    }
   ],
   "source": [
    "check_df_for_weird_values(TRAIN_clean)\n",
    "check_df_for_weird_values(TEST_clean)"
   ]
  },
  {
   "cell_type": "code",
   "execution_count": 76,
   "metadata": {},
   "outputs": [
    {
     "name": "stdout",
     "output_type": "stream",
     "text": [
      "0      -1.100932\n",
      "1      -1.136304\n",
      "2      -0.269700\n",
      "3      -0.287386\n",
      "4      -0.252014\n",
      "          ...   \n",
      "1634   -0.588044\n",
      "1635   -0.658788\n",
      "1636   -0.747217\n",
      "1637   -0.871017\n",
      "1638   -1.030189\n",
      "Name: 0, Length: 1639, dtype: float64\n"
     ]
    }
   ],
   "source": [
    "print(TRAIN_clean[\"dim_0\"].iloc[0])"
   ]
  },
  {
   "cell_type": "code",
   "execution_count": 77,
   "metadata": {},
   "outputs": [
    {
     "name": "stdout",
     "output_type": "stream",
     "text": [
      "\n",
      "### CinCECGTorso ###                  N       T_min|T_max     D       N_class \n",
      "------------------------------------------------------------------------------------------\n",
      "CinCECGTorso train                     40       1639|1639      1        4         nans = False\n",
      "CinCECGTorso test                      1380     1639|1639      1        4         nans = False\n"
     ]
    }
   ],
   "source": [
    "info = print_info(dataset_name, TRAIN_clean, TEST_clean, y=TRAIN_y_raw)"
   ]
  }
 ],
 "metadata": {
  "kernelspec": {
   "display_name": "nvark",
   "language": "python",
   "name": "python3"
  },
  "language_info": {
   "codemirror_mode": {
    "name": "ipython",
    "version": 3
   },
   "file_extension": ".py",
   "mimetype": "text/x-python",
   "name": "python",
   "nbconvert_exporter": "python",
   "pygments_lexer": "ipython3",
   "version": "3.12.7"
  }
 },
 "nbformat": 4,
 "nbformat_minor": 2
}
