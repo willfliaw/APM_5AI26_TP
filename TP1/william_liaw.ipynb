{
  "cells": [
    {
      "cell_type": "code",
      "execution_count": 1,
      "metadata": {
        "id": "Ny_MB2oCPyq6"
      },
      "outputs": [],
      "source": [
        "import matplotlib.pyplot as plt\n",
        "import numpy as np\n",
        "from sklearn.datasets import make_moons"
      ]
    },
    {
      "cell_type": "markdown",
      "metadata": {
        "id": "26U3eQzwPyq8"
      },
      "source": [
        "# Course reminder"
      ]
    },
    {
      "cell_type": "markdown",
      "metadata": {
        "id": "CzkW8DaLPyq9"
      },
      "source": [
        "### The motivation:"
      ]
    },
    {
      "cell_type": "markdown",
      "metadata": {
        "id": "D4JjImpZPyq9"
      },
      "source": [
        "Many machine learning problems write as follows:\n",
        "\n",
        "\\begin{equation*}\n",
        "\\min_{f\\in \\mathcal{F}} \\frac{1}{n}\\sum_{i=1}^n \\ell(f(x_i),y_i) + \\lambda \\Omega(f)\n",
        "\\end{equation*}\n",
        "\n",
        "for some hypothesis space $\\mathcal{F}$ and some regularization $\\Omega$.\n",
        "\n",
        "Kernel methods allow to manipulate very large hypothesis spaces $\\mathcal{F}$."
      ]
    },
    {
      "cell_type": "markdown",
      "metadata": {
        "id": "zwSQEBU2Pyq-"
      },
      "source": [
        "### Kernels and RKHS:"
      ]
    },
    {
      "cell_type": "markdown",
      "metadata": {
        "id": "Dc5vWbknPyq-"
      },
      "source": [
        "As seen in the course, each kernel $k : \\mathbb{R}^d \\times \\mathbb{R}^d \\mapsto \\mathbb{R}$ is associated with a feature map $\\phi : \\mathbb{R}^d \\mapsto \\mathcal{H}$ where $\\mathcal{H}$ is an Hilbert space of infinite dimension called the RKHS whose scalar product satisfies\n",
        "\n",
        "\n",
        "\\begin{equation*}\n",
        "\\langle \\phi(x), \\phi(y) \\rangle_\\mathcal{H} = k(x,y)\n",
        "\\end{equation*}\n",
        "\n",
        "$\\mathcal{H}$ is actually a functionnal space and, in particular, $\\phi(x)$ is the function $f_x: y \\mapsto k(x,y)$.\n",
        "\n",
        "\\begin{equation*}\n",
        "\\phi(x) = f_x\n",
        "\\end{equation*}\n",
        "\n",
        "Note that $\\mathcal{H}$ contains the $f_x$ but also other functions. Actually we have that:\n",
        "\n",
        "$$\\mathcal{H} = \\overline{\\text{Span}\\{ \\phi(x) \\mid x \\in \\mathbb{R}^d \\}}$$\n",
        "\n",
        "$\\mathcal{H}$ is typically very large which makes it an ideal hypothesis space.\n",
        "\n",
        "All functions in $f \\in \\mathcal{H}$ satisfy the reproducing property:\n",
        "\n",
        "\\begin{equation*}\n",
        "f(x) = \\langle f, \\phi(x) \\rangle_\\mathcal{H}\n",
        "\\end{equation*}\n",
        "\n"
      ]
    },
    {
      "cell_type": "markdown",
      "metadata": {
        "id": "5SmTmRfRPyq-"
      },
      "source": [
        "### Back to regression:"
      ]
    },
    {
      "cell_type": "markdown",
      "metadata": {
        "id": "-FGekEi7Pyq_"
      },
      "source": [
        "The hypothesis space $\\mathcal{H}$ defined through the kernel is very large, fortunately the representer theorem garantees that the solution of any problem of the form\n",
        "\n",
        "\\begin{equation*}\n",
        "\\min_{f\\in \\mathcal{F}} \\frac{1}{n}\\sum_{i=1}^n \\ell(f(x_i),y_i) + \\lambda ||f||_\\mathcal{H}^2\n",
        "\\end{equation*}\n",
        "\n",
        "Can be written as\n",
        "\n",
        "\\begin{equation*}\n",
        "f^* = \\sum_{i=1}^n \\alpha_i \\phi(x_i)\n",
        "\\end{equation*}\n",
        "\n",
        "i.e.\n",
        "\n",
        "\\begin{equation*}\n",
        "f^*(x) = \\sum_{i=1}^n \\alpha_i k(x,x_i)\n",
        "\\end{equation*}\n",
        "\n",
        "Meaning that finding the best function in $\\mathcal{F}$ (which is infinite) is equivalent to find the right $\\alpha \\in \\mathbb{R}^n$ !\n"
      ]
    },
    {
      "cell_type": "markdown",
      "metadata": {
        "id": "fU4KXQ2JPyq_"
      },
      "source": [
        "# I. Basic kernel manipulations"
      ]
    },
    {
      "cell_type": "markdown",
      "metadata": {
        "id": "dSSZ8m5uPyrA"
      },
      "source": [
        "Notations:\n",
        "\n",
        "- $x_1,\\ldots,x_n$ are the training point in $\\mathbb{R}^d$.\n",
        "- The matrix $X$ is defined as $X = [x_1^T,...,x_n^T]$\n",
        "- Similarly $z_1,...,z_m$ are the test points and $Z = [z_1^T,...,z_m^T]$\n",
        "- We denote $K^{xx}$ the gram matrix of the train set that is $K^{xx}_{i,j} = k(x_i,x_j)$. When there is no ambiguity we simply denote it $K$.\n",
        "- We denote $K^{xz}$ the train/test product matrix that is $K^{xz}_{i,j} = k(x_i,z_j)$"
      ]
    },
    {
      "cell_type": "markdown",
      "metadata": {
        "id": "sUqNE71PPyrA"
      },
      "source": [
        "The most popular/common kernel is the gaussian kernel\n",
        "\n",
        "$$k(x,y) = \\exp\\left(-\\frac{||x-y||_2^2}{\\sigma^2}\\right)$$"
      ]
    },
    {
      "cell_type": "markdown",
      "metadata": {
        "id": "PSq-7l3HPyrA"
      },
      "source": [
        "Q1) Prove that this is actually a kernel (check the definition in your course!). Tip: start with the proof in dimension 1 and for $\\sigma = 1$."
      ]
    },
    {
      "cell_type": "markdown",
      "metadata": {
        "id": "wQJnrRo9PyrB"
      },
      "source": [
        "To prove the Gaussian kernel $k(x, y) = \\exp\\left(-\\frac{\\|x - y\\|_2^2}{\\sigma^2}\\right)$ is a valid kernel, we need to show that it is symmetric and positive semi-definite.\n",
        "\n",
        "- Symmetry\n",
        "\n",
        "  For $\\sigma = 1$ and $x, y \\in \\mathbb{R}$, the kernel is:\n",
        "  $$\n",
        "  k(x, y) = \\exp\\left(-(x - y)^2\\right).\n",
        "  $$\n",
        "  Since $(x - y)^2 = (y - x)^2$, which extends to the L2 norm for higher dimensions $\\|x - y\\|_2^2 = \\|y - x\\|_2^2$, we have $k(x, y) = k(y, x)$, so the kernel is symmetric.\n",
        "\n",
        "- Positive Semi-Definiteness:\n",
        "\n",
        "  For $\\sigma = 1$ and a set of points $x_1, \\ldots, x_n \\in \\mathbb{R}$, the Gram matrix $K$ with entries $K_{ij} = k(x_i, x_j)$ is:\n",
        "\n",
        "  $$\n",
        "  K_{ij} = \\exp\\left(-(x_i - x_j)^2\\right).\n",
        "  $$\n",
        "\n",
        "  We need to show $\\alpha^T K \\alpha \\geq 0$ for any $\\alpha \\in \\mathbb{R}^n$. This quadratic form represents a sum of Gaussian functions, which is non-negative. Even for $\\sigma \\neq 1$, we have $\\sigma^2 > 0$ so the functions are still always non-negative. By the Bochner theorem, Gaussian kernels are positive semi-definite, as they are the Fourier transform of a non-negative function.\n",
        "\n",
        "- Generalization\n",
        "\n",
        "  In $\\mathbb{R}^d$, the Gaussian kernel is:\n",
        "  $$\n",
        "  k(x, y) = \\exp\\left(-\\frac{\\|x - y\\|_2^2}{\\sigma^2}\\right).\n",
        "  $$\n",
        "  This is symmetric and a product of 1-dimensional positive semi-definite kernels, preserving positive semi-definiteness.\n",
        "\n",
        "The Gaussian kernel is, thus, both symmetric and positive semi-definite, making it a valid kernel."
      ]
    },
    {
      "cell_type": "markdown",
      "metadata": {
        "id": "ooWFDvlDPyrB"
      },
      "source": [
        "Q2) Same question for the linear kernel\n",
        "\n",
        "$$k(x,y) = \\langle x, y \\rangle$$"
      ]
    },
    {
      "cell_type": "markdown",
      "metadata": {
        "id": "UaJrPTcbPyrB"
      },
      "source": [
        "To prove the linear kernel $k(x,y) = \\langle x, y \\rangle$ is a valid kernel, we need to show that it is symmetric and positive semi-definite.\n",
        "\n",
        "- Symmetry:\n",
        "\n",
        "  The linear kernel is defined as the dot product:\n",
        "\n",
        "  $$\n",
        "  k(x, y) = \\langle x, y \\rangle = \\sum_{i=1}^d x_i y_i.\n",
        "  $$\n",
        "\n",
        "  Since $\\langle x, y \\rangle = \\langle y, x \\rangle$, the kernel is symmetric.\n",
        "\n",
        "- Positive Semi-Definiteness:\n",
        "\n",
        "  For any set of points $x_1, \\ldots, x_n \\in \\mathbb{R}^d$, the Gram matrix $K$ has entries $K_{ij} = \\langle x_i, x_j \\rangle$. To show that the kernel is positive semi-definite, we need to verify that for any vector $\\alpha \\in \\mathbb{R}^n$, the following holds:\n",
        "\n",
        "  $$\n",
        "  \\alpha^T K \\alpha = \\sum_{i=1}^n \\sum_{j=1}^n \\alpha_i \\alpha_j \\langle x_i, x_j \\rangle = \\left\\langle \\sum_{i=1}^n \\alpha_i x_i, \\sum_{j=1}^n \\alpha_j x_j \\right\\rangle \\geq 0.\n",
        "  $$\n",
        "\n",
        "  This expression is the dot product of the vector $\\sum_{i=1}^n \\alpha_i x_i$ with itself, which is always non-negative because the dot product of any vector with itself is non-negative.\n",
        "\n",
        "The linear kernel $k(x, y) = \\langle x, y \\rangle$ is symmetric and positive semi-definite, making it a valid kernel."
      ]
    },
    {
      "cell_type": "markdown",
      "metadata": {
        "id": "7oecxAN_PyrB"
      },
      "source": [
        "Q3) For any $f \\in \\mathcal{H}$ of the form  $f = \\sum_{i=1}^n \\alpha_i \\phi(x_i)$,  compute $||f||_\\mathcal{H}^2$. Compute the expressions of:\n",
        "\n",
        "- The norm: $||f||_\\mathcal{H}^2$. It should depend only on $K$ and $\\alpha$.\n",
        "- The train prediction vector: $[f(x_1),...,f(x_n)]$. Idem.\n",
        "- The test prediction vector: $[f(z_1),...,f(z_m)]$. It should depend only on $K^{x,z}$ and $\\alpha$."
      ]
    },
    {
      "cell_type": "markdown",
      "metadata": {
        "id": "UC_rm3LUPyrB"
      },
      "source": [
        "Given $f \\in \\mathcal{H}$ in the form $f = \\sum_{i=1}^n \\alpha_i \\phi(x_i)$, we compute the following:\n",
        "\n",
        "- 1. Norm $||f||_\\mathcal{H}^2$\n",
        "\n",
        "  The norm is given by:\n",
        "\n",
        "  $$\n",
        "  ||f||_\\mathcal{H}^2 = \\left\\langle f, f \\right\\rangle_\\mathcal{H} = \\sum_{i=1}^n \\sum_{j=1}^n \\alpha_i \\alpha_j \\langle \\phi(x_i), \\phi(x_j) \\rangle.\n",
        "  $$\n",
        "\n",
        "  Since $\\langle \\phi(x_i), \\phi(x_j) \\rangle = k(x_i, x_j) = K_{ij}$, we have:\n",
        "\n",
        "  $$\n",
        "  ||f||_\\mathcal{H}^2 = \\alpha^T K^{x,x} \\alpha.\n",
        "  $$\n",
        "\n",
        "- 2. Train Prediction Vector $[f(x_1), \\ldots, f(x_n)]$\n",
        "\n",
        "  The prediction for each $x_i$ is:\n",
        "  $$\n",
        "  f(x_i) = \\sum_{j=1}^n \\alpha_j k(x_j, x_i).\n",
        "  $$\n",
        "  Thus, the train prediction vector is:\n",
        "  $$\n",
        "  [f(x_1), \\ldots, f(x_n)] = K^{x,x} \\alpha.\n",
        "  $$\n",
        "\n",
        "- 3. Test Prediction Vector $[f(z_1), \\ldots, f(z_m)]$\n",
        "\n",
        "  For test points $z_1, \\ldots, z_m$, the prediction for each $z_j$ is:\n",
        "  $$\n",
        "  f(z_j) = \\sum_{i=1}^n \\alpha_i k(x_i, z_j).\n",
        "  $$\n",
        "  Thus, the test prediction vector is:\n",
        "  $$\n",
        "  [f(z_1), \\ldots, f(z_m)] = K^{x,z} \\alpha.\n",
        "  $$"
      ]
    },
    {
      "cell_type": "markdown",
      "metadata": {
        "id": "lWZVPxwHPyrB"
      },
      "source": [
        "Q4) Complete the following code (application of the previous questions)"
      ]
    },
    {
      "cell_type": "code",
      "execution_count": 2,
      "metadata": {
        "id": "JReeWEHaPyrB"
      },
      "outputs": [],
      "source": [
        "class Kernel:\n",
        "    def compute_norm_f(self, Kxx, alpha):\n",
        "        \"\"\"\n",
        "        Input:\n",
        "            Kxx: numpy array of shape (n, n)\n",
        "            alpha: numpy array of shape (n)\n",
        "        Output:\n",
        "            norm_f: float\n",
        "        \"\"\"\n",
        "\n",
        "        norm_f = alpha.T @ Kxx @ alpha\n",
        "\n",
        "        return norm_f\n",
        "\n",
        "    def compute_prediction_train(self, Kxx, alpha):\n",
        "        \"\"\"\n",
        "        Input:\n",
        "            Kxx: numpy array of shape (n, n)\n",
        "            alpha: numpy array of shape (n)\n",
        "        Output:\n",
        "            y: numpy array of shape (n)\n",
        "        \"\"\"\n",
        "\n",
        "        y = Kxx @ alpha\n",
        "\n",
        "        return y\n",
        "\n",
        "    def compute_prediction_test(self, Kxz, alpha):\n",
        "        \"\"\"\n",
        "        Input:\n",
        "            Kxz: numpy array of shape (n, m)\n",
        "            alpha: numpy array of shape (n)\n",
        "        Output:\n",
        "            y: numpy array of shape (m)\n",
        "        \"\"\"\n",
        "\n",
        "        y = Kxz.T @ alpha\n",
        "\n",
        "        return y\n",
        "\n",
        "\n",
        "class GaussianKernel(Kernel):\n",
        "\n",
        "    def __init__(self, sigma=1):\n",
        "        self.sigma = sigma\n",
        "\n",
        "    def get_Kxx(self, X):\n",
        "        \"\"\"\n",
        "        Input:\n",
        "            X: numpy array of shape (n, d)\n",
        "        Output:\n",
        "            Kxx: gnumpy array of shape (n, n)\n",
        "        \"\"\"\n",
        "\n",
        "        n = X.shape[0]\n",
        "        Kxx = np.zeros((n, n))\n",
        "        for i in range(n):\n",
        "            for j in range(n):\n",
        "                Kxx[i, j] = np.exp(\n",
        "                    -np.linalg.norm(X[i] - X[j]) ** 2 / (2 * self.sigma**2)\n",
        "                )\n",
        "\n",
        "        return Kxx\n",
        "\n",
        "    def get_Kxz(self, X, Z):\n",
        "        \"\"\"\n",
        "        Input:\n",
        "            X: numpy array of shape (n, d)\n",
        "            Z: numpy array of shape (m, d)\n",
        "        Output:\n",
        "            Kxz: gnumpy array of shape (n, m)\n",
        "        \"\"\"\n",
        "        n = X.shape[0]\n",
        "        m = Z.shape[0]\n",
        "        Kxz = np.zeros((n, m))\n",
        "        for i in range(n):\n",
        "            for j in range(m):\n",
        "                Kxz[i, j] = np.exp(\n",
        "                    -np.linalg.norm(X[i] - Z[j]) ** 2 / (2 * self.sigma**2)\n",
        "                )\n",
        "\n",
        "        return Kxz\n",
        "\n",
        "\n",
        "class LinearKernel(Kernel):\n",
        "\n",
        "    def __init__(self):\n",
        "        pass\n",
        "\n",
        "    def get_Kxx(self, X):\n",
        "        \"\"\"\n",
        "        Input:\n",
        "            X: numpy array of shape (n, d)\n",
        "        Output:\n",
        "            Kxx: gnumpy array of shape (n, n)\n",
        "        \"\"\"\n",
        "\n",
        "        Kxx = X @ X.T\n",
        "\n",
        "        return Kxx\n",
        "\n",
        "    def get_Kxz(self, X, Z):\n",
        "        \"\"\"\n",
        "        Input:\n",
        "            X: numpy array of shape (n, d)\n",
        "            Z: numpy array of shape (m, d)\n",
        "        Output:\n",
        "            Kxz: gnumpy array of shape (n, m)\n",
        "        \"\"\"\n",
        "\n",
        "        Kxz = X @ Z.T\n",
        "\n",
        "        return Kxz"
      ]
    },
    {
      "cell_type": "markdown",
      "metadata": {
        "id": "Nu8HJkYNPyrB"
      },
      "source": [
        "# II. Centering the data in a RKHS"
      ]
    },
    {
      "cell_type": "markdown",
      "metadata": {
        "id": "ixeA_K0WPyrB"
      },
      "source": [
        "Many ML algorithm expect the data to be centered i.e. $\\overline{x} = \\frac{1}{n} \\sum_{i=1}^n x_i = 0$. When it is not the case we simply define a new centered dataset\n",
        "\n",
        "$$ x_i' = x_i - \\overline{x}$$\n",
        "\n",
        "\n",
        "\n",
        "Simarly, in kernel methods we often expect the data to be centered in the RKHS that is $ \\overline{\\phi} = \\frac{1}{n} \\sum_{i=1}^n \\phi(x_i) = 0$. We can once again define some new data that is centered:\n",
        "\n",
        "$$ \\phi_i = \\phi(x_i) - \\overline{\\phi}$$\n",
        "\n",
        "The only difficulty is that the new points in the feature space might not correspond to any point in the original space i.e. they might not be any $x_i'$ such that $\\phi(x_i') = \\phi_i$.\n",
        "\n",
        "Is it a problem ? No ! Remember that the strenght of the kernels methods is that we only need to compute the gram matrix to apply them."
      ]
    },
    {
      "cell_type": "markdown",
      "metadata": {
        "id": "3Y_pZZR8PyrC"
      },
      "source": [
        "Q1) Compute $\\langle \\phi_k,\\phi_l \\rangle_\\mathcal{H}$ as a function of the $k(x_i,x_j)$"
      ]
    },
    {
      "cell_type": "markdown",
      "metadata": {
        "id": "UiRrdCicPyrC"
      },
      "source": [
        "To compute $\\langle \\phi_k, \\phi_l \\rangle_\\mathcal{H}$ for centered data in the RKHS, we start with the centered features $\\phi_k = \\phi(x_k) - \\overline{\\phi}$ and $\\phi_l = \\phi(x_l) - \\overline{\\phi}$, where $\\overline{\\phi} = \\frac{1}{n} \\sum_{i=1}^n \\phi(x_i)$.\n",
        "\n",
        "The inner product is:\n",
        "\n",
        "$$\n",
        "\\langle \\phi_k, \\phi_l \\rangle_\\mathcal{H} = \\langle \\phi(x_k), \\phi(x_l) \\rangle_\\mathcal{H} - \\langle \\phi(x_k), \\overline{\\phi} \\rangle_\\mathcal{H} - \\langle \\overline{\\phi}, \\phi(x_l) \\rangle_\\mathcal{H} + \\langle \\overline{\\phi}, \\overline{\\phi} \\rangle_\\mathcal{H}.\n",
        "$$\n",
        "\n",
        "Using $k(x_i, x_j) = \\langle \\phi(x_i), \\phi(x_j) \\rangle_\\mathcal{H}$, this becomes:\n",
        "\n",
        "$$\n",
        "\\langle \\phi_k, \\phi_l \\rangle_\\mathcal{H} = k(x_k, x_l) - \\frac{1}{n} \\sum_{i=1}^n k(x_k, x_i) - \\frac{1}{n} \\sum_{i=1}^n k(x_l, x_i) + \\frac{1}{n^2} \\sum_{i=1}^n \\sum_{j=1}^n k(x_i, x_j).\n",
        "$$"
      ]
    },
    {
      "cell_type": "markdown",
      "metadata": {
        "id": "CXp81zj_PyrC"
      },
      "source": [
        "Q2) Give an expression of $K_c$ the gram matrix of the $\\phi_i$ using only matrix multiplications, the original gram matrix $K$ and $\\mathbf{1}_n$ the $n\\times n$ matrix full of ones."
      ]
    },
    {
      "cell_type": "markdown",
      "metadata": {
        "id": "KXs0tDirPyrC"
      },
      "source": [
        "The formula for $K_c$, the Gram matrix for the centered features $\\phi_i$, is:\n",
        "\n",
        "$$\n",
        "K_c = K - \\frac{1}{n} K \\mathbf{1}_n - \\frac{1}{n} \\mathbf{1}_n K + \\frac{1}{n^2} \\mathbf{1}_n K \\mathbf{1}_n.\n",
        "$$"
      ]
    },
    {
      "cell_type": "markdown",
      "metadata": {
        "id": "-TUMWgA7PyrC"
      },
      "source": [
        "Q3) Lets now assume that we want to center the test set (using the same mean !). That is we define\n",
        "\n",
        "$$\\phi_i' = \\phi(z_i) - \\overline{\\phi}$$\n",
        "\n",
        "Compute the $\\langle \\phi_k, \\phi_l' \\rangle_\\mathcal{H}$ as a function of the $k(x_i,x_j)$ and $k(x_i,z_j)$."
      ]
    },
    {
      "cell_type": "markdown",
      "metadata": {
        "id": "Z_97KtCNPyrC"
      },
      "source": [
        "The centered inner product $\\langle \\phi_k, \\phi_l' \\rangle_\\mathcal{H}$ between a training point $x_k$ and a test point $z_l$ is given by:\n",
        "\n",
        "$$\n",
        "\\langle \\phi_k, \\phi_l' \\rangle_\\mathcal{H} = k(x_k, z_l) - \\frac{1}{n} \\sum_{i=1}^n k(x_k, x_i) - \\frac{1}{n} \\sum_{i=1}^n k(x_i, z_l) + \\frac{1}{n^2} \\sum_{i=1}^n \\sum_{j=1}^n k(x_i, x_j).\n",
        "$$"
      ]
    },
    {
      "cell_type": "markdown",
      "metadata": {
        "id": "y8-9M9pePyrC"
      },
      "source": [
        "Q4) Give an expression of $K^{x,z}_c$ the gram matrix of the $\\phi_i'$ using $K^{x,x}, K^{x,z}$ and $\\mathbf{1}_n$."
      ]
    },
    {
      "cell_type": "markdown",
      "metadata": {
        "id": "VGqJsZwkPyrD"
      },
      "source": [
        "The centered Gram matrix $K^{x,z}_c$, which corresponds to the inner products between centered training features $\\phi(x_i) - \\overline{\\phi}$ and centered test features $\\phi(z_j) - \\overline{\\phi}$, is given by:\n",
        "\n",
        "$$\n",
        "K^{x,z}_c = K^{x,z} - \\frac{1}{n} K^{x,x} \\mathbf{1}_{nm} - \\frac{1}{n} \\mathbf{1}_{n} K^{x,z} + \\frac{1}{n^2} \\mathbf{1}_n K^{x,x} \\mathbf{1}_{nm}.\n",
        "$$"
      ]
    },
    {
      "cell_type": "markdown",
      "metadata": {
        "id": "ATI7Go5_PyrD"
      },
      "source": [
        "Q5) Complete the following code"
      ]
    },
    {
      "cell_type": "code",
      "execution_count": 3,
      "metadata": {
        "id": "GUiYhsyUPyrD"
      },
      "outputs": [],
      "source": [
        "def center_train_gram_matrix(Kxx):\n",
        "    '''\n",
        "    Input:\n",
        "        Kxx: numpy array of shape (n, n)\n",
        "    Output:\n",
        "        Kxx_c: numpy array of shape (n, n)\n",
        "    '''\n",
        "\n",
        "    n = Kxx.shape[0]\n",
        "    ones_n = np.ones((n, n)) / n\n",
        "    Kxx_c = Kxx - Kxx @ ones_n - ones_n @ Kxx + ones_n @ Kxx @ ones_n\n",
        "\n",
        "    return Kxx_c\n",
        "\n",
        "def center_test_gram_matrix(Kxx, Kxz):\n",
        "    '''\n",
        "    Input:\n",
        "        Kxx: numpy array of shape (n, n)\n",
        "        Kxz: numpy array of shape (n, m)\n",
        "    Output:\n",
        "        K_c: numpy array of shape (n, m)\n",
        "    '''\n",
        "\n",
        "    n = Kxx.shape[0]\n",
        "    ones_n = np.ones((n, n)) / n\n",
        "    ones_n_m = np.ones((n, Kxz.shape[1])) / n\n",
        "    Kxz_c = Kxz - Kxx @ ones_n_m - ones_n @ Kxz + ones_n @ Kxx @ ones_n_m\n",
        "\n",
        "    return Kxz_c"
      ]
    },
    {
      "cell_type": "markdown",
      "metadata": {
        "id": "lLyDYcKQPyrD"
      },
      "source": [
        "# III. Kernel Ridge Regression"
      ]
    },
    {
      "cell_type": "markdown",
      "metadata": {
        "id": "_NggBs7UPyrD"
      },
      "source": [
        "Ridge Regression is the standard linear regression with an L2 regularization\n",
        "\n",
        "\\begin{equation*}\n",
        "\\min_{w \\in \\mathbb{R}^d} \\frac{1}{n}\\sum_{i=1}^n (\\langle w, x_i \\rangle - y_i)^2 + \\lambda ||w||_2^2\n",
        "\\end{equation*}\n",
        "\n",
        "It is very natural to write a kernel version\n",
        "\n",
        "\\begin{equation*}\n",
        "\\min_{f \\in \\mathcal{H}} \\frac{1}{n}\\sum_{i=1}^n ( \\langle f, \\phi(x_i) \\rangle_\\mathcal{H}  - y_i)^2 + \\lambda ||f||_\\mathcal{H}^2\n",
        "\\end{equation*}\n",
        "\n",
        "Note that using the reproducing property this is equivalent to\n",
        "\n",
        "\\begin{equation*}\n",
        "\\min_{f \\in \\mathcal{H}} \\frac{1}{n}\\sum_{i=1}^n ( f(x_i) \\ - y_i)^2 + \\lambda ||f||_\\mathcal{H}^2\n",
        "\\end{equation*}"
      ]
    },
    {
      "cell_type": "markdown",
      "metadata": {
        "id": "8t9dGKhZPyrE"
      },
      "source": [
        "Q1) Apply the representer theorem to this problem i.e. rewrite it as a problem that depends on $\\alpha \\in \\mathbb{R}^n$"
      ]
    },
    {
      "cell_type": "markdown",
      "metadata": {
        "id": "HXDQd1v2PyrE"
      },
      "source": [
        "By applying the representer theorem to the ridge regression problem:\n",
        "\n",
        "$$\n",
        "\\min_{f \\in \\mathcal{H}} \\frac{1}{n}\\sum_{i=1}^n ( f(x_i) \\ - y_i)^2 + \\lambda ||f||_\\mathcal{H}^2\n",
        "$$\n",
        "\n",
        "we express the solution as $f(x) = \\sum\\limits_{i=1}^n \\alpha_i k(x, x_i)$. Substituting this into the objective function yields:\n",
        "\n",
        "$$\n",
        "\\min_{\\alpha \\in \\mathbb{R}^n} \\frac{1}{n} (K \\alpha - y)^T(K \\alpha - y) + \\lambda \\alpha^T K \\alpha.\n",
        "$$"
      ]
    },
    {
      "cell_type": "markdown",
      "metadata": {
        "id": "Vv_xyX0TPyrE"
      },
      "source": [
        "Q2) Compute the expression of the minimum $\\alpha^*$"
      ]
    },
    {
      "cell_type": "markdown",
      "metadata": {
        "id": "-pOTnOj6PyrE"
      },
      "source": [
        "\\begin{align*}\n",
        "0 &= \\frac{1}{n} (2KK^T\\alpha^* - 2K^Ty) + 2\\lambda K^T \\alpha^* \\\\\n",
        "K^Ty &= (K + n \\lambda I) K^T \\alpha^* \\\\\n",
        "(K + n \\lambda I)^{-1}y &= \\alpha^* \\\\\n",
        "\\end{align*}\n",
        "\n",
        "Thus, the optimal $\\alpha^*$ for kernel ridge regression is:\n",
        "\n",
        "$\n",
        "\\alpha^* = (K + n \\lambda I)^{-1} y.\n",
        "$"
      ]
    },
    {
      "cell_type": "markdown",
      "metadata": {
        "id": "IN0kjt1aPyrE"
      },
      "source": [
        "Q3) Propose an approach to approximate $\\alpha^*$ when its to expensive to compute the matrix inversion."
      ]
    },
    {
      "cell_type": "markdown",
      "metadata": {
        "id": "uAfCjE_qPyrE"
      },
      "source": [
        "To approximate $\\alpha^*$ without computing the matrix inverse, consider these methods:\n",
        "\n",
        "1. Conjugate Gradient (CG): An efficient iterative method to solve $(K + n \\lambda I) \\alpha = y$, avoiding explicit inversion.\n",
        "2. Stochastic Gradient Descent (SGD): Iteratively minimize the objective function using gradient updates.\n",
        "3. Nyström Approximation: Use a low-rank approximation of $K$ to reduce computational cost.\n",
        "4. Preconditioned CG: Accelerate convergence of CG with a preconditioner.\n",
        "\n",
        "The Conjugate Gradient method is often the best choice for large-scale problems."
      ]
    },
    {
      "cell_type": "markdown",
      "metadata": {
        "id": "JoT8XOAwPyrF"
      },
      "source": [
        "Lets generate and visualize some synthetic data"
      ]
    },
    {
      "cell_type": "markdown",
      "metadata": {
        "id": "2APMUwrXPyrF"
      },
      "source": [
        "Q4) Complete the code"
      ]
    },
    {
      "cell_type": "code",
      "execution_count": 4,
      "metadata": {
        "id": "JXy_a6vnPyrF"
      },
      "outputs": [],
      "source": [
        "def get_alpha_KRR(Kxx, y, lbda):\n",
        "    \"\"\"\n",
        "    Input:\n",
        "        Kxx: numpy array of shape (n, n)\n",
        "        y: numpy array of shape (n)\n",
        "        lbda: float\n",
        "    Output:\n",
        "        alpha: numpy array of shape (n)\n",
        "    \"\"\"\n",
        "    n = Kxx.shape[0]\n",
        "    alpha = np.linalg.inv(Kxx + n * lbda * np.eye(n)) @ y\n",
        "\n",
        "    return alpha"
      ]
    },
    {
      "cell_type": "markdown",
      "metadata": {
        "id": "gdKiMJozPyrF"
      },
      "source": [
        "Q5) Play with the following code"
      ]
    },
    {
      "cell_type": "code",
      "execution_count": 5,
      "metadata": {
        "id": "QKYhBBZHPyrF"
      },
      "outputs": [
        {
          "data": {
            "image/png": "[encoded data removed]",
            "text/plain": [
              "<Figure size 640x480 with 1 Axes>"
            ]
          },
          "metadata": {},
          "output_type": "display_data"
        }
      ],
      "source": [
        "# Define some data\n",
        "\n",
        "f = lambda x: 2*np.sin(x)+x\n",
        "\n",
        "n  = 50\n",
        "m = 100\n",
        "\n",
        "X = np.random.uniform(-10, 10, n)\n",
        "y = f(X) + np.random.normal(0, 0.1, n)\n",
        "Z = np.linspace(-10, 10, m)\n",
        "\n",
        "plt.figure()\n",
        "plt.plot(Z, f(Z), color = 'blue', label = 'True', alpha = 0.5)\n",
        "plt.scatter(X, y, color = 'red', label = 'Train Set', marker='x')\n",
        "plt.legend()\n",
        "plt.show()\n",
        "\n",
        "X = X.reshape(-1, 1)\n",
        "Z = Z.reshape(-1, 1)"
      ]
    },
    {
      "cell_type": "code",
      "execution_count": 6,
      "metadata": {
        "id": "E-FNpR5CPyrF"
      },
      "outputs": [
        {
          "data": {
            "image/png": "[encoded data removed]",
            "text/plain": [
              "<Figure size 640x480 with 1 Axes>"
            ]
          },
          "metadata": {},
          "output_type": "display_data"
        }
      ],
      "source": [
        "# Hyperparameters (to be tuned)\n",
        "kernel = \"gaussian\"  # test 'linear' or 'gaussian'\n",
        "sigma = 1\n",
        "lbda = 0.1\n",
        "\n",
        "# Define kernel\n",
        "if kernel == \"linear\":\n",
        "    kernel = LinearKernel()\n",
        "elif kernel == \"gaussian\":\n",
        "    kernel = GaussianKernel(sigma=sigma)\n",
        "else:\n",
        "    raise ValueError(\"Unknown kernel\")\n",
        "\n",
        "# Compute the Gram matrices\n",
        "Kxx = kernel.get_Kxx(X)\n",
        "Kxz = kernel.get_Kxz(X, Z)\n",
        "\n",
        "# Center data in the RKHS\n",
        "Kxx_c = center_train_gram_matrix(Kxx)\n",
        "Kxz_c = center_test_gram_matrix(Kxx, Kxz)\n",
        "\n",
        "# We don't need the uncetered Gram matrices anymore\n",
        "Kxx = Kxx_c\n",
        "Kxz = Kxz_c\n",
        "\n",
        "# Compute optimal alpha\n",
        "alpha = get_alpha_KRR(Kxx, y, lbda)\n",
        "\n",
        "# Get the predictions\n",
        "Y_pred = kernel.compute_prediction_test(Kxz, alpha)\n",
        "\n",
        "# Plot the predictions\n",
        "plt.figure()\n",
        "plt.plot(Z, f(Z), color=\"blue\", label=\"True\", alpha=0.5)\n",
        "plt.plot(Z, Y_pred, color=\"green\", label=\"Prediction\", alpha=0.5)\n",
        "plt.legend()\n",
        "plt.show()"
      ]
    },
    {
      "cell_type": "markdown",
      "metadata": {
        "id": "AxdmahBNPyrG"
      },
      "source": [
        "# IV. Kernel PCA"
      ]
    },
    {
      "cell_type": "markdown",
      "metadata": {
        "id": "xv10wcLFPyrG"
      },
      "source": [
        "## Reminder on PCA:"
      ]
    },
    {
      "cell_type": "markdown",
      "metadata": {
        "id": "iOFwfy3FPyrG"
      },
      "source": [
        "\n",
        "$\\def\\norm#1{\\|#1\\|}\\def\\pair#1{\\langle #1 \\rangle}\\def\\set#1{\\lbrace#1\\rbrace}$\n",
        "$\\def\\RR{\\mathbf{R}}$\n",
        "$\\def\\trace{\\operatorname{trace}}$\n",
        "\n",
        "PCA is an unsupervised Machine Learning technique that learns a low-dimentional representation of the data.\n",
        "\n",
        "\n",
        "We have a set $x_1,\\ldots, x_n$ of vectors in $\\RR^d$.\n",
        "\n",
        "We project them to a lower dimention subspace spanned by the orthonormal vectors $v_1,\\ldots,  v_k$.\n",
        "For a single vector $x$, the projection is\n",
        "$$\n",
        " P_V(x_i) = \\sum_{i=1}^k \\pair{x, v_i} v_i\n",
        "$$\n",
        "In matrix form, the orthogonal projection onto the span of $v$ is\n",
        "\n",
        "$$\n",
        " P_V = V^TV\n",
        "$$\n",
        "where\n",
        "$\n",
        " V = \\lbrack v_1, \\dots,  v_k \\rbrack^T\n",
        "$\n",
        "satisfies $VV^T = I_k$. (since the $v_j$ are orthonormal).\n",
        "\n",
        "In PCA, we try to find a subspace of dimensions $k$ such that the projection on this subspace is as close as possible to the original data, that is we solve:\n",
        "\n",
        "$$\n",
        "\\min_{V} \\frac{1}{2}\\norm{X - V^TVX}^2\n",
        "$$\n",
        "over the orthonormal matrices $V$.\n",
        "Apply pythagoria's theorem to split the norm:\n",
        "$$\n",
        "\\frac{1}{2}\\norm{X - V^TVX}^2 = \\quad \\frac{1}{2}\\norm{X}^2 + \\frac{1}{2}\\norm{V^TV X}^2 - \\pair{X, V^TVX}.\n",
        "$$\n",
        "\n",
        "The first term is constant with respect to $V$.\n",
        "The second term is equal to $(1/2)\\norm{V X}^2$ by isometry, and the last term\n",
        "is $-\\norm{VX}^2$.\n",
        "\n",
        "Therfore the objective is also\n",
        "$$\n",
        "    \\max_{V} \\norm{VX}^2 = \\max_{V} \\trace{VX^TXV^T}\n",
        "$$\n",
        "\n",
        "We can show that in the last expression that $V$ is the top $k$-components of the\n",
        "eigen decomposition of $XX^T$."
      ]
    },
    {
      "cell_type": "markdown",
      "metadata": {
        "id": "wU8OFneJPyrG"
      },
      "source": [
        "## PCA in a RKHS"
      ]
    },
    {
      "cell_type": "markdown",
      "metadata": {
        "id": "tGoppRR1PyrH"
      },
      "source": [
        "$\\def\\norm#1{\\|#1\\|}\\def\\pair#1{\\langle #1 \\rangle}\\def\\set#1{\\lbrace#1\\rbrace}$\n",
        "$\\def\\RR{\\mathbf{R}}$\n",
        "$\\def\\trace{\\operatorname{trace}}$\n",
        "$\\def\\XX{\\mathcal{X}}\\def\\HH{\\mathcal{H}}$\n",
        "$\\def\\argmin{\\operatorname{argmin}}$\n",
        "$\\def\\argmax{\\operatorname{argmax}}$\n",
        "\n",
        "\n",
        "We can proceed as before except that we try to find a $k$ dimentionnal representation of the vectors in the RKHS $\\phi(x_1),...,\\phi(x_n)$. The only difficulty is that those vectors are of infinite dimensions.\n",
        "\n",
        "Let's first focus on the projection over a single vector ($k=1$). For a  unitary vector $f\\in \\HH$, $\\norm{f}^2 = 1$, we can still define the projection\n",
        "$$\n",
        "P_f: \\HH\\to \\HH ,\\ g \\mapsto \\pair {g, f}f\n",
        "$$\n",
        "And the optimal vector is\n",
        "$$\n",
        "f^* = \\argmin_{f \\in \\mathcal{H}, ||f|| = 1} \\sum_{i=1}^n || P_f(\\phi(x_i)) - \\phi(x_i)||_\\mathcal{H}^2\n",
        "$$"
      ]
    },
    {
      "cell_type": "markdown",
      "metadata": {
        "id": "rb3kp9GAPyrH"
      },
      "source": [
        "Q1) Prove that\n",
        "\n",
        "$$\n",
        "f^* = \\argmax_{f \\in \\mathcal{H}, ||f|| = 1} \\sum_{i=1}^n f(x_i)^2\n",
        "$$\n",
        "\n",
        "(Tip: remember the reproducing property !)"
      ]
    },
    {
      "cell_type": "markdown",
      "metadata": {
        "id": "n3sZXLjRPyrH"
      },
      "source": [
        "We start with the projection $ P_f(\\phi(x_i)) = f(x_i) f $ and the projection error:\n",
        "\n",
        "$$\n",
        "||P_f(\\phi(x_i)) - \\phi(x_i)||_\\mathcal{H}^2 = ||\\phi(x_i)||_\\mathcal{H}^2 - f(x_i)^2.\n",
        "$$\n",
        "\n",
        "Summing over all points:\n",
        "\n",
        "$$\n",
        "\\sum_{i=1}^n ||P_f(\\phi(x_i)) - \\phi(x_i)||_\\mathcal{H}^2 = \\sum_{i=1}^n \\left( ||\\phi(x_i)||_\\mathcal{H}^2 - f(x_i)^2 \\right).\n",
        "$$\n",
        "\n",
        "Minimizing the projection error is equivalent to maximizing $ \\sum_{i=1}^n f(x_i)^2 $. Therefore, the optimal $ f^* $ is:\n",
        "\n",
        "$$\n",
        "f^* = \\argmax_{f \\in \\mathcal{H}, ||f|| = 1} \\sum_{i=1}^n f(x_i)^2.\n",
        "$$"
      ]
    },
    {
      "cell_type": "markdown",
      "metadata": {
        "id": "qxVDasYQPyrH"
      },
      "source": [
        "Q2) Let's prove a variant of the representer theorem for this new optimization problem. We split $\\HH$ into the span of the $\\phi(x_1),\\ldots,\\phi(x_n)$ and its complement, that is for each $f \\in \\mathcal{H}$ we denote\n",
        "\n",
        "$$ f = f_X + f_\\bot$$\n",
        "\n",
        "where $f_X = \\sum \\alpha_i \\phi(x_i)$ and $\\langle f_\\bot, f_X \\rangle = 0$.\n",
        "\n",
        "Prove the representer theorem i.e. that the optimal $f$ satisfies $f = f_X$."
      ]
    },
    {
      "cell_type": "markdown",
      "metadata": {
        "id": "xld2fbG8PyrH"
      },
      "source": [
        "To prove that the optimal solution $f^*$ lies in the span of $\\phi(x_1), \\ldots, \\phi(x_n)$, we decompose $f$ as:\n",
        "\n",
        "$$\n",
        "f = f_X + f_\\perp,\n",
        "$$\n",
        "\n",
        "where $f_X = \\sum_{i=1}^n \\alpha_i \\phi(x_i)$ and $\\langle f_\\perp, \\phi(x_i) \\rangle = 0$.\n",
        "\n",
        "Using the reproducing property, we get $f(x_i) = \\langle f_X, \\phi(x_i) \\rangle$. Since $f_\\perp$ does not contribute to $f(x_i)$, the objective function $\\sum_{i=1}^n f(x_i)^2$ depends only on $f_X$.\n",
        "\n",
        "The norm constraint $||f||_\\mathcal{H}^2 = 1$ implies that any non-zero $f_\\perp$ would reduce the contribution of $f_X$, so the optimal solution is $f_\\perp = 0$, i.e., $f = f_X$.\n",
        "\n",
        "Thus, $f^*$ lies entirely in the span of $\\phi(x_1), \\ldots, \\phi(x_n)$."
      ]
    },
    {
      "cell_type": "markdown",
      "metadata": {
        "id": "H8SV6ge5PyrH"
      },
      "source": [
        "Q3) Apply the representer theorem to get a optimization problem over $\\alpha \\in \\mathbb{R}^n$. As always the problem should depend only on $\\alpha$ and the kernel matrix $K$."
      ]
    },
    {
      "cell_type": "markdown",
      "metadata": {
        "id": "VsPa6SpMPyrI"
      },
      "source": [
        "[ANSWER HERE]"
      ]
    },
    {
      "cell_type": "markdown",
      "metadata": {
        "id": "tmi8LlO0PyrI"
      },
      "source": [
        "Q4) Use the change of variable $\\beta = \\sqrt{K} \\alpha$ to rewrite the problem as an eigenvalue problem."
      ]
    },
    {
      "cell_type": "markdown",
      "metadata": {
        "id": "C6wS74CPPyrI"
      },
      "source": [
        "[ANSWER HERE]"
      ]
    },
    {
      "cell_type": "markdown",
      "metadata": {
        "id": "-JZG-udtPyrI"
      },
      "source": [
        "Q5) Let's say that we have found the $k$ principal vectors $f_1,...,f_k$ and that they all have the form\n",
        "\n",
        "$$f_j = \\sum_i \\alpha_{i,j} \\phi(x_i)$$\n",
        "\n",
        "We are now given an new point $x$ (not necessarily in the train set). Give the expression of the $k$ principal components of $\\phi(X)$:\n",
        "\n",
        "$$ u(x)_j = \\langle \\phi(x), f_j \\rangle$$\n",
        "\n",
        "Give the expression of vector $u(x)$ depending on the matrix $\\alpha$ and the vector $k_x = [k(x,x_1),...,k(x,x_n)]$"
      ]
    },
    {
      "cell_type": "markdown",
      "metadata": {
        "id": "ZzZ4YbS0PyrI"
      },
      "source": [
        "In conclusion, the algorithm for kernel PCA is :\n",
        "\n",
        "* compute the gram matrix and center it.\n",
        "* decompose it, keep the first $k$ eigenvectors, and eigenvalues.\n",
        "* At a test point $x$, compute the k principal components. (Don't forget to center the test points too!)"
      ]
    },
    {
      "cell_type": "code",
      "execution_count": 7,
      "metadata": {
        "id": "5uahKnQPPyrI"
      },
      "outputs": [
        {
          "data": {
            "image/png": "[encoded data removed]",
            "text/plain": [
              "<Figure size 640x480 with 1 Axes>"
            ]
          },
          "metadata": {},
          "output_type": "display_data"
        }
      ],
      "source": [
        "random_state = 17\n",
        "n_samples = 500\n",
        "X, y = make_moons(n_samples=n_samples, noise=0.01, random_state=random_state)\n",
        "#X, y = make_circles(n_samples=n_samples, noise=0.01, factor=0.3, random_state=random_state)\n",
        "#X, y = make_blobs(n_samples=n_samples, centers=3, cluster_std=1.0, random_state=random_state)\n",
        "\n",
        "fig, ax = plt.subplots()\n",
        "_ = ax.scatter(X[:,0], X[:,1], c=y)\n",
        "ax.set_aspect('equal')"
      ]
    },
    {
      "cell_type": "code",
      "execution_count": 8,
      "metadata": {
        "id": "_zwgD6HtPyrI"
      },
      "outputs": [],
      "source": [
        "def make_grid(n,X):\n",
        "    \"\"\"\n",
        "        Generates a grid of points within the bounds of the given data.\n",
        "\n",
        "        n : int\n",
        "            The number of points along each dimension of the grid.\n",
        "        X : numpy.ndarray\n",
        "            A 2D array of shape (num_samples, 2) representing the input data.\n",
        "\n",
        "        numpy.ndarray\n",
        "            A 2D array of shape (n*n, 2) containing the grid points.\n",
        "    \"\"\"\n",
        "    x_min, y_min = np.min(X, axis=0)\n",
        "    x_max, y_max = np.max(X, axis=0)\n",
        "    xy = np.mgrid[x_min:x_max:1j*n, y_min:y_max:1j*n].reshape(2,-1).T\n",
        "    return xy"
      ]
    },
    {
      "cell_type": "code",
      "execution_count": 9,
      "metadata": {
        "id": "yB6P4HvXPyrJ"
      },
      "outputs": [],
      "source": [
        "# Hyperparameters (to be tuned)\n",
        "kernel = 'linear' # test 'linear' or 'gaussian'\n",
        "sigma = 1\n",
        "lbda = 0.1\n",
        "\n",
        "# Define kernel\n",
        "if kernel == 'linear':\n",
        "    kernel = LinearKernel()\n",
        "elif kernel == 'gaussian':\n",
        "    kernel = GaussianKernel(sigma = sigma)\n",
        "else:\n",
        "    raise ValueError('Unknown kernel')\n",
        "\n",
        "\n",
        "def KPCA_representation(X):\n",
        "    \"\"\"\n",
        "    Compute the finite-dimensional representation of the principal components.\n",
        "\n",
        "    Parameters\n",
        "    ----------\n",
        "    X : (n, d) numpy.ndarray\n",
        "        The input data.\n",
        "\n",
        "    Returns\n",
        "    -------\n",
        "    alpha : (n, k) numpy.ndarray\n",
        "        The finite-dimensional representation of the principal components.\n",
        "    \"\"\"\n",
        "    # get the kernel matrix, center it, get the eigenvectors and eigenvalues, change the variables.\n",
        "    ..."
      ]
    },
    {
      "cell_type": "code",
      "execution_count": 10,
      "metadata": {
        "id": "H-9mqS-5PyrJ"
      },
      "outputs": [],
      "source": [
        "def principal_component(alpha, X, Z):\n",
        "    \"\"\"\n",
        "    return the evaluation of the principal components at points Z.\n",
        "\n",
        "    Parameters\n",
        "    ----------\n",
        "    alpha : (n, k) numpy.ndarray\n",
        "        The finite-dimensional representation of the principal components\n",
        "    X: (n, d) numpy.ndarray\n",
        "        The input data.\n",
        "    Z : (m, n) array\n",
        "        points to where to evaluate the principal components.\n",
        "\n",
        "    Returns\n",
        "    -------\n",
        "    (k, m) array\n",
        "        value of the k principal components at points y.\n",
        "    \"\"\"\n",
        "    ..."
      ]
    },
    {
      "cell_type": "code",
      "execution_count": 11,
      "metadata": {
        "id": "1XrayFTHPyrJ"
      },
      "outputs": [
        {
          "ename": "TypeError",
          "evalue": "principal_component() missing 2 required positional arguments: 'X' and 'Z'",
          "output_type": "error",
          "traceback": [
            "\u001b[1;31m---------------------------------------------------------------------------\u001b[0m",
            "\u001b[1;31mTypeError\u001b[0m                                 Traceback (most recent call last)",
            "Cell \u001b[1;32mIn[11], line 6\u001b[0m\n\u001b[0;32m      4\u001b[0m alpha \u001b[38;5;241m=\u001b[39m KPCA_representation(X)\n\u001b[0;32m      5\u001b[0m principal_component_fn \u001b[38;5;241m=\u001b[39m \u001b[38;5;28;01mlambda\u001b[39;00m E: principal_component(alpha, X, E)\n\u001b[1;32m----> 6\u001b[0m feval \u001b[38;5;241m=\u001b[39m principal_component(Z)\n\u001b[0;32m      7\u001b[0m fself \u001b[38;5;241m=\u001b[39m principal_component(X)\n",
            "\u001b[1;31mTypeError\u001b[0m: principal_component() missing 2 required positional arguments: 'X' and 'Z'"
          ]
        }
      ],
      "source": [
        "n_eval = 200\n",
        "Z = make_grid(n_eval, X)\n",
        "\n",
        "alpha = KPCA_representation(X)\n",
        "principal_component_fn = lambda E: principal_component(alpha, X, E)\n",
        "feval = principal_component(Z)\n",
        "fself = principal_component(X)"
      ]
    },
    {
      "cell_type": "code",
      "execution_count": null,
      "metadata": {
        "id": "W_bh3bu7PyrJ"
      },
      "outputs": [],
      "source": [
        "fig, (ax1, ax2) = plt.subplots(1, 2, figsize=(20, 10))\n",
        "Ep = Z.T.reshape((2, n_eval, n_eval))\n",
        "fxp = feval.reshape((feval.shape[0], n_eval, n_eval))\n",
        "_ = ax1.contourf(Ep[0], Ep[1], fxp[0])\n",
        "_ = ax1.contour(Ep[0], Ep[1], fxp[1], colors='black', levels=12 )\n",
        "_ = ax1.scatter(X[:,0], X[:,1], c=y)\n",
        "ax2.scatter(fself[0], fself[1], c=y)\n",
        "ax1.xaxis.set_visible(False)\n",
        "ax1.yaxis.set_visible(False)\n",
        "#ax2.xaxis.set_visible(False)\n",
        "#ax2.yaxis.set_visible(False)\n",
        "ax1.set_aspect('equal')\n",
        "ax2.set_aspect('equal')\n",
        "ax1.set_title('First pc = colors, second pc = level set')\n",
        "ax2.set_title('Data projection on the principal components')\n",
        "ax2.set_xlabel('First principal component')\n",
        "ax2.set_ylabel('Second principal component')\n",
        "ax1.set_xlabel('x')\n",
        "ax1.set_ylabel('y')\n",
        "plt.show()"
      ]
    },
    {
      "cell_type": "markdown",
      "metadata": {
        "id": "QbHzX0pYPyrJ"
      },
      "source": [
        "# V. Kernel Quantile Regression"
      ]
    },
    {
      "cell_type": "markdown",
      "metadata": {
        "id": "jkML7w4IPyrJ"
      },
      "source": [
        "Recall that least squares regression as seen in the previous part is the empirical version of\n",
        "\n",
        "$$ \\min_f E_{x,y}[ ( f(x) - y)^2  ]$$\n",
        "\n",
        "We can play a bit with this objective\n",
        "\n",
        "\\begin{align*}\n",
        "E_{x,y}[ ( f(x) - y)^2  ] &= E_{x}[ E_{y}[( f(x) - y)^2 | x ] ] \\\\\n",
        "&= E_{x}\\left[ f(x)^2 - 2 f(x) E_{y}[y|x] + E_{y}[y|x]^2 \\right] \\\\\n",
        "&= E_{x}\\left[ ( f(x) - E[y|x])^2 \\right]\n",
        "\\end{align*}\n",
        "\n",
        "And we immediatly see that the best possible $f$ which is called the Bayes Optimal is\n",
        "\n",
        "$$f^*(x) = E[y|x]$$\n",
        "\n",
        "In conclusion: when we solve a least square problem, we try to approximate the Bayes Optimal, that is the condionnal expectation.\n",
        "\n",
        "What about the cases where we are not interested in the conditonnal expectation ?\n",
        "\n",
        "For instance, in many economic application we are rather interested in predicting quantiles, for instance we want to predict the value $f_r(x)$ such that\n",
        "\n",
        "$$ P( y > f_r(x) ) = r$$\n",
        "\n",
        "For $r = 0.5$ this is the median of y given x."
      ]
    },
    {
      "cell_type": "markdown",
      "metadata": {},
      "source": [
        "[ANSWER HERE]"
      ]
    },
    {
      "cell_type": "code",
      "execution_count": null,
      "metadata": {
        "id": "1YDTDysmPyrJ"
      },
      "outputs": [],
      "source": [
        "n = 500\n",
        "\n",
        "f = lambda x: x\n",
        "g = lambda x: x\n",
        "\n",
        "X = np.random.uniform(0, 10, n)\n",
        "y = f(X) + np.random.exponential(1, n)*g(X)\n",
        "mean = f(X) + g(X)\n",
        "median = f(X) + g(X)*np.log(2)\n",
        "\n",
        "plt.figure()\n",
        "plt.scatter(X, y, color = 'red', label = 'Train Set', marker='x', alpha = 0.5)\n",
        "plt.plot(X, mean, color = 'blue', label = r'$f^*(y)$')\n",
        "plt.plot(X, median, color = 'green', label = r'$f_0(x)$')\n",
        "plt.legend()\n",
        "plt.show()\n"
      ]
    },
    {
      "cell_type": "markdown",
      "metadata": {
        "id": "aFteIC3EPyrJ"
      },
      "source": [
        "Let us define the \"Pinball loss\" $\\ell_r$ as\n",
        "\n",
        "$$\n",
        " \\ell_r(u)=\n",
        "\\begin{cases}\n",
        "    -(1-r)u,& \\text{if} & u \\leq 0\\\\\n",
        "    r u,& \\text{if} & u \\geq 0\n",
        "\\end{cases}\n",
        "$$\n",
        "\n",
        "We can prove that minimizing this loss yiels the function we wanted\n",
        "\n",
        "$$\n",
        "f_r = \\argmin E_{x,y}[\\ell_r(y-f(x))  ]\n",
        "$$"
      ]
    },
    {
      "cell_type": "markdown",
      "metadata": {
        "id": "getlEN_OPyrK"
      },
      "source": [
        "Q1) For the sake of simplicity we will prove only the case $r=(1/2)$ i.e. $\\ell_{\\frac{1}{2}}(u) = (1/2)|u|$, but it is very easy to generalize the proof.\n",
        "\n",
        "To prove the result we just have to prove that the minimum of $J(z) = E_y[|y - z|]$ is reached for some z that satisfies $P(y=z) = 0.5$. Here are the steps to follow:\n",
        "\n",
        "- Prove that J is convex\n",
        "- Show that\n",
        " $$J(z) = \\int_{z}^{+\\infty }(y-z) p(y) dy - \\int_{-\\infty}^{z}(y-z) p(y) dy$$\n",
        "- Compute $J'(z)$ and solve $J'(z)=0$."
      ]
    },
    {
      "cell_type": "markdown",
      "metadata": {
        "id": "8V5R0xzpPyrK"
      },
      "source": [
        "[ANSWER HERE]"
      ]
    },
    {
      "cell_type": "markdown",
      "metadata": {
        "id": "toNSW0f1PyrK"
      },
      "source": [
        "We can now use the usual kernel machinery to approximate $f_r$ by solving\n",
        "\n",
        "\\begin{equation*}\n",
        "\\min_{f \\in \\mathcal{H}} \\frac{1}{n}\\sum_{i=1}^n \\ell_r(y - f(x)) + \\lambda ||f||_\\mathcal{H}^2\n",
        "\\end{equation*}\n",
        "\n",
        "Note that\n",
        "\n",
        "\\begin{equation}\n",
        "\n",
        "\\begin{aligned}\n",
        "\\ell_r(u) = \\min_{u^+, u^-} \\quad & r u^+  +  (1-r)u^- \\\\\n",
        "\\textrm{s.t.} \\quad & u^+ - u^- = u\\\\\n",
        "  &u^+, u^-\\geq 0    \\\\\n",
        "\\end{aligned}\n",
        "\\end{equation}\n",
        "\n",
        "Thus the problem rewrites\n",
        "\n",
        "\\begin{equation}\n",
        "\\begin{aligned}\n",
        "\\min_{f \\in \\mathcal{H}, u^+, u^-}  \\quad & \\frac{1}{n}\\sum_{i=1}^n r u^+_i  +  (1-r)u^-_i + \\lambda ||f||_\\mathcal{H}^2\\\\\n",
        "\\textrm{s.t.} \\quad & \\begin{cases}\n",
        "                            u^+ \\geq 0   \\\\\n",
        "                            u^- \\geq 0   \\\\\n",
        "                            u^+ \\geq y - f(x) \\\\\n",
        "                            u^- \\geq f(x) - y\n",
        "                    \\end{cases}\n",
        "\\end{aligned}\n",
        "\\end{equation}\n",
        "\n",
        "The trick that we used is very important: we introduced new variables and constraints but now the objective of the optimization problem is linear!\n",
        "\n",
        "Finally we apply the representer theorem (and denote $C = 2 n \\lambda$) so we get\n",
        "\n",
        "\\begin{equation}\n",
        "\\begin{aligned}\n",
        "\\min_{\\alpha, u^+, u^-}  \\quad &  \\langle r u^+_i  +  (1-r)u^-_i, \\mathbf{1} \\rangle + \\frac{1}{2} C \\langle  \\alpha, K \\alpha\\rangle\\\\\n",
        "\\textrm{s.t.} \\quad & \\begin{cases}\n",
        "                            u^+ \\geq 0   \\\\\n",
        "                            u^- \\geq 0   \\\\\n",
        "                            u^+ \\geq y - K\\alpha \\\\\n",
        "                            u^- \\geq K\\alpha - y\n",
        "                    \\end{cases}\n",
        "\\end{aligned}\n",
        "\\end{equation}\n",
        "\n"
      ]
    },
    {
      "cell_type": "markdown",
      "metadata": {
        "id": "nWobaj1APyrK"
      },
      "source": [
        "Q2) Compute the dual of this problem, denote the 4 dual variable $\\mu^+, \\mu^-, \\lambda^+$ and $\\lambda^-$."
      ]
    },
    {
      "cell_type": "markdown",
      "metadata": {
        "id": "jnarOgNBPyrK"
      },
      "source": [
        "[DO THE COMPUTATIONS ON PAPER, write the result here]"
      ]
    },
    {
      "cell_type": "markdown",
      "metadata": {
        "id": "mZiW0zFmPyrK"
      },
      "source": [
        "If everything went well you should get that the minimization problem rewrites\n",
        "\n",
        "\\begin{equation}\n",
        "\\begin{aligned}\n",
        "\\min_{\\alpha}  \\quad &  - \\langle y, \\alpha\\rangle + \\langle \\alpha, K \\alpha\\rangle\\\\\n",
        "\\textrm{s.t.} \\quad & \\begin{cases}\n",
        "                            -(1-r) \\leq C \\alpha \\leq r \\\\\n",
        "                            \\langle \\alpha, \\mathbf{1} \\rangle = 1\n",
        "                    \\end{cases}\n",
        "\\end{aligned}\n",
        "\\end{equation}"
      ]
    },
    {
      "cell_type": "markdown",
      "metadata": {
        "id": "CqEgtpp7PyrK"
      },
      "source": [
        "Q3) Using the convex programming software of your choice (e.g. cvxopt) implement the solver to find $\\alpha^*$\n"
      ]
    }
  ],
  "metadata": {
    "colab": {
      "provenance": []
    },
    "kernelspec": {
      "display_name": "base",
      "language": "python",
      "name": "python3"
    },
    "language_info": {
      "codemirror_mode": {
        "name": "ipython",
        "version": 3
      },
      "file_extension": ".py",
      "mimetype": "text/x-python",
      "name": "python",
      "nbconvert_exporter": "python",
      "pygments_lexer": "ipython3",
      "version": "3.12.3"
    }
  },
  "nbformat": 4,
  "nbformat_minor": 0
}
